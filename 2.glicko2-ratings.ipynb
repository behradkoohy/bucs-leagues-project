{
 "cells": [
  {
   "cell_type": "code",
   "execution_count": 10,
   "id": "91e6c34d",
   "metadata": {},
   "outputs": [],
   "source": [
    "import pandas as pd\n",
    "\n",
    "from modifiedGlicko import Team, ratingUpdate\n",
    "import math\n",
    "# import glicko2\n",
    "\n",
    "init_d = 75\n",
    "init_v = 0.001"
   ]
  },
  {
   "cell_type": "code",
   "execution_count": 11,
   "id": "04abbb4e",
   "metadata": {},
   "outputs": [],
   "source": [
    "df = pd.read_csv(\"bucs_results.csv\")\n",
    "\n",
    "postcodes = pd.read_csv(\"institute_postcodes.csv\")\n",
    "\n",
    "# print the first few rows of the DataFrame to verify that it was loaded correctly\n",
    "df.head()\n",
    "df = df.drop(columns=['No Score Type', 'Walkover Reason','Knockout Fixtures', 'Number of Walkovers', 'Voids', 'Blowout Game(s)', 'Zero Score?', 'Blowout to Zero', 'Team Conceding Walkover', 'Fixtures',\n",
    "       'League Fixtures', 'Time'])"
   ]
  },
  {
   "cell_type": "code",
   "execution_count": 12,
   "id": "0ef8e1b8",
   "metadata": {},
   "outputs": [],
   "source": [
    "df = df[df[\"Fixture type\"]==\"League\"]"
   ]
  },
  {
   "cell_type": "code",
   "execution_count": 13,
   "id": "ba05d9d6",
   "metadata": {},
   "outputs": [],
   "source": [
    "def generate_glicko_init_rating(comp):\n",
    "    if \"National\" in comp:\n",
    "        return 3000\n",
    "    if \"North/South\" in comp or \"(North)\" in comp or \"(South)\" in comp or \"Premier\" in comp:\n",
    "        return 2300\n",
    "    if \"Tier 1\" in comp:\n",
    "        return 2000\n",
    "    if \"Tier 2\" in comp:\n",
    "        return 1500\n",
    "    if \"Tier 3\" in comp:\n",
    "        return 1200\n",
    "    if \"Tier 4\" in comp:\n",
    "        return 900\n",
    "    if \"Tier 5\" in comp:\n",
    "        return 700"
   ]
  },
  {
   "cell_type": "code",
   "execution_count": 14,
   "id": "aa1b8158",
   "metadata": {},
   "outputs": [],
   "source": [
    "df['HG_RANK_Initial'] = df.apply(lambda row: generate_glicko_init_rating(row.Competition), axis=1)\n",
    "df['AG_RANK_Initial'] = df.apply(lambda row: generate_glicko_init_rating(row.Competition), axis=1)"
   ]
  },
  {
   "cell_type": "code",
   "execution_count": 15,
   "id": "4108de67",
   "metadata": {
    "scrolled": true
   },
   "outputs": [],
   "source": [
    "team_gscores = {}\n",
    "\n",
    "for i, team in df[df[\"Community\"]==\"BUCS Hockey 22-23\"].iterrows():\n",
    "# for i, team in df.iterrows():\n",
    "    team_gscores[team.Home] = team.HG_RANK_Initial\n",
    "    team_gscores[team.Away] = team.AG_RANK_Initial\n",
    "    if math.isnan(team.HG_RANK_Initial):\n",
    "        print(team.Home, team.HG_RANK_Initial, \"Home\", team.Competition)\n",
    "    if math.isnan(team.AG_RANK_Initial):\n",
    "        print(team.Away, team.AG_RANK_Initial, \"Away\", team.Competition)\n",
    "    \n",
    "#     print(team_gscores[team.Home], team_gscores[team.Away])\n",
    "    \n",
    "# print(team_gscores)\n",
    "\n",
    "team_gObj = {}\n",
    "\n",
    "for team, gscore in team_gscores.items():\n",
    "    team_gObj[team] = Team(team, gscore, initial_deviation=init_d, initial_volatility=init_v)\n",
    "    \n",
    "# del team_gscores "
   ]
  },
  {
   "cell_type": "code",
   "execution_count": 16,
   "id": "c012a705",
   "metadata": {},
   "outputs": [],
   "source": [
    "for i, row in df.iterrows():\n",
    "    row['Home'] = row['Home'].replace(\"   \", \" \")\n",
    "    row['Away'] = row['Away'].replace(\"   \", \" \")\n",
    "    row['Home'] = row['Home'].replace(\"  \", \" \")\n",
    "    row['Away'] = row['Away'].replace(\"  \", \" \")\n",
    "    if row['Home'] not in team_gObj:\n",
    "        team_gObj[row['Home']] = Team(row['Home'], row['HG_RANK_Initial'], initial_deviation=init_d, initial_volatility=init_v)\n",
    "    home_gobj = team_gObj[row['Home']]\n",
    "    \n",
    "    if row['Away'] not in team_gObj:\n",
    "        team_gObj[row['Away']] = Team(row['Away'], row['AG_RANK_Initial'], initial_deviation=init_d, initial_volatility=init_v)\n",
    "    away_gobj = team_gObj[row['Away']]\n",
    "\n",
    "    score_diff = int(row['Home Score']) - int(row['Away Score'])\n",
    " \n",
    "    homeTeam, awayTeam = ratingUpdate(\n",
    "        (home_gobj), \n",
    "        (away_gobj),\n",
    "        score_diff\n",
    "    )\n",
    "    team_gObj[row['Home']] = homeTeam\n",
    "    team_gObj[row['Away']] = awayTeam\n",
    "    \n",
    "\n",
    "# print(team_gObj)"
   ]
  },
  {
   "cell_type": "code",
   "execution_count": 17,
   "id": "34ebd3ec",
   "metadata": {
    "scrolled": false
   },
   "outputs": [
    {
     "name": "stdout",
     "output_type": "stream",
     "text": [
      "Nottingham Men's 1 3039.4485197811914 52.628932257248024\n",
      "Nottingham Men's 7 912.1546227342383 66.601802310621\n",
      "Nottingham Men's 2 2348.3914387134023 53.22096064052369\n",
      "Nottingham Men's 6 1279.4007975891943 53.22121242231641\n",
      "Nottingham Men's 5 1560.6140600205672 50.43104708298101\n",
      "Nottingham Men's 4 2037.762951887401 50.4264344318252\n",
      "Nottingham Men's 3 2029.7219041558874 50.430104701369594\n"
     ]
    }
   ],
   "source": [
    "for team, obj in team_gObj.items():\n",
    "    if \"Women's\" in team:\n",
    "        continue\n",
    "    if \"Nottingham M\" not in team:\n",
    "        continue\n",
    "    \n",
    "    print(team, obj.rating, obj.RD)"
   ]
  },
  {
   "cell_type": "code",
   "execution_count": null,
   "id": "62ea9def",
   "metadata": {},
   "outputs": [],
   "source": []
  },
  {
   "cell_type": "code",
   "execution_count": 18,
   "id": "a2cb6834",
   "metadata": {},
   "outputs": [],
   "source": [
    "output = {'names': [n for n in team_gObj.keys()], 'gs':[n.rating for n in team_gObj.values()], 'rd':[n.RD for n in team_gObj.values()]}\n",
    "output = pd.DataFrame(output)\n",
    "output.to_csv('team_ratings.csv', index=False)\n",
    "\n",
    "\n"
   ]
  },
  {
   "cell_type": "code",
   "execution_count": null,
   "id": "6f8513e9",
   "metadata": {},
   "outputs": [],
   "source": []
  }
 ],
 "metadata": {
  "kernelspec": {
   "display_name": "Python 3 (ipykernel)",
   "language": "python",
   "name": "python3"
  },
  "language_info": {
   "codemirror_mode": {
    "name": "ipython",
    "version": 3
   },
   "file_extension": ".py",
   "mimetype": "text/x-python",
   "name": "python",
   "nbconvert_exporter": "python",
   "pygments_lexer": "ipython3",
   "version": "3.9.7"
  }
 },
 "nbformat": 4,
 "nbformat_minor": 5
}
