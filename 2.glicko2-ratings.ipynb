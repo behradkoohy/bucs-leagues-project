{
 "cells": [
  {
   "cell_type": "code",
   "execution_count": 1,
   "id": "91e6c34d",
   "metadata": {},
   "outputs": [
    {
     "name": "stdout",
     "output_type": "stream",
     "text": [
      "[1025.4859444495833, 1043.7158238313502, 1047.8232526452093, 1051.564788862337, 1061.893931570815, 1065.0388659274918, 1076.9547207459634, 1090.9433025689025]\n",
      "[1015.291566641589, 1010.7582499046903, 1006.6397764685555, 995.2799620952633, 1005.736754373586, 1005.6983550673284, 1020.5948521224575, 1006.6281666452078]\n",
      "[1005.154055528046, 1041.5465941941538, 1037.4068244398945, 1018.5761956174197, 994.5080495231064, 981.6529978232321, 966.7624653385337, 952.8580871659084]\n",
      "[984.708433358411, 966.4785540081228, 974.7184299971232, 1001.2594018977584, 1008.1808733031781, 995.3580631964135, 1007.233662344651, 1021.2052544498849]\n",
      "[974.5140555504167, 938.0117824359066, 929.7723998853289, 948.677174590693, 945.2593625759127, 938.9059103349767, 930.0443059583689, 930.0771311234046]\n"
     ]
    }
   ],
   "source": [
    "import pandas as pd\n",
    "from datetime import date, timedelta\n",
    "from modifiedGlicko import Team, ratingUpdate\n",
    "import math\n",
    "# import glicko2\n",
    "\n",
    "init_d = 350\n",
    "init_v = 0.001"
   ]
  },
  {
   "cell_type": "code",
   "execution_count": 2,
   "id": "04abbb4e",
   "metadata": {},
   "outputs": [],
   "source": [
    "df = pd.read_csv(\"bucs_results.csv\")\n",
    "\n",
    "postcodes = pd.read_csv(\"institute_postcodes.csv\")\n",
    "\n",
    "# print the first few rows of the DataFrame to verify that it was loaded correctly\n",
    "df.head()\n",
    "df = df.drop(columns=['No Score Type', 'Walkover Reason','Knockout Fixtures', 'Number of Walkovers', 'Voids', 'Blowout Game(s)', 'Zero Score?', 'Blowout to Zero', 'Team Conceding Walkover', 'Fixtures',\n",
    "       'League Fixtures', 'Time'])"
   ]
  },
  {
   "cell_type": "code",
   "execution_count": 3,
   "id": "0ef8e1b8",
   "metadata": {},
   "outputs": [],
   "source": [
    "df = df[df[\"Fixture type\"]==\"League\"]"
   ]
  },
  {
   "cell_type": "code",
   "execution_count": 4,
   "id": "ba05d9d6",
   "metadata": {},
   "outputs": [],
   "source": [
    "def generate_glicko_init_rating(comp):\n",
    "    if \"National\" in comp or \"Premier\" in comp:\n",
    "        return 2600\n",
    "    if \"North/South\" in comp or \"(North)\" in comp or \"(South)\" in comp:\n",
    "        return 2200\n",
    "    if \"Tier 1\" in comp:\n",
    "        return 2000\n",
    "    if \"Tier 2\" in comp:\n",
    "        return 1500\n",
    "    if \"Tier 3\" in comp:\n",
    "        return 1200\n",
    "    if \"Tier 4\" in comp:\n",
    "        return 900\n",
    "    if \"Tier 5\" in comp:\n",
    "        return 600"
   ]
  },
  {
   "cell_type": "code",
   "execution_count": 5,
   "id": "aa1b8158",
   "metadata": {},
   "outputs": [],
   "source": [
    "df['HG_RANK_Initial'] = df.apply(lambda row: generate_glicko_init_rating(row.Competition), axis=1)\n",
    "df['AG_RANK_Initial'] = df.apply(lambda row: generate_glicko_init_rating(row.Competition), axis=1)"
   ]
  },
  {
   "cell_type": "code",
   "execution_count": 6,
   "id": "4108de67",
   "metadata": {
    "scrolled": true
   },
   "outputs": [],
   "source": [
    "team_gscores = {}\n",
    "\n",
    "for i, team in df[df[\"Community\"]==\"BUCS Hockey 22-23\"].iterrows():\n",
    "# for i, team in df.iterrows():\n",
    "    team_gscores[team.Home] = team.HG_RANK_Initial\n",
    "    team_gscores[team.Away] = team.AG_RANK_Initial\n",
    "    if math.isnan(team.HG_RANK_Initial):\n",
    "        print(team.Home, team.HG_RANK_Initial, \"Home\", team.Competition)\n",
    "    if math.isnan(team.AG_RANK_Initial):\n",
    "        print(team.Away, team.AG_RANK_Initial, \"Away\", team.Competition)\n",
    "    \n",
    "#     print(team_gscores[team.Home], team_gscores[team.Away])\n",
    "    \n",
    "# print(team_gscores)\n",
    "\n",
    "team_gObj = {}\n",
    "\n",
    "for team, gscore in team_gscores.items():\n",
    "    team_gObj[team] = Team(team, gscore, initial_deviation=init_d, initial_volatility=init_v)\n",
    "    \n",
    "# del team_gscores "
   ]
  },
  {
   "cell_type": "code",
   "execution_count": 7,
   "id": "c012a705",
   "metadata": {},
   "outputs": [],
   "source": [
    "for i, row in df.iterrows():\n",
    "    \n",
    "    if row['Home'] not in team_gObj:\n",
    "        team_gObj[row['Home']] = Team(row['Home'], row['HG_RANK_Initial'], initial_deviation=init_d, initial_volatility=init_v)\n",
    "    home_gobj = team_gObj[row['Home']]\n",
    "    \n",
    "    if row['Away'] not in team_gObj:\n",
    "        team_gObj[row['Away']] = Team(row['Away'], row['AG_RANK_Initial'], initial_deviation=init_d, initial_volatility=init_v)\n",
    "    away_gobj = team_gObj[row['Away']]\n",
    "\n",
    "    score_diff = int(row['Home Score']) - int(row['Away Score'])\n",
    " \n",
    "    homeTeam, awayTeam = ratingUpdate(\n",
    "        (home_gobj), \n",
    "        (away_gobj),\n",
    "        score_diff\n",
    "    )\n",
    "    team_gObj[row['Home']] = homeTeam\n",
    "    team_gObj[row['Away']] = awayTeam\n",
    "    \n",
    "\n",
    "# print(team_gObj)"
   ]
  },
  {
   "cell_type": "code",
   "execution_count": 12,
   "id": "34ebd3ec",
   "metadata": {
    "scrolled": true
   },
   "outputs": [
    {
     "name": "stdout",
     "output_type": "stream",
     "text": [
      "Southampton Men's 4 597.863207685731 85.45862097585098\n",
      "Southampton Men's 3 760.6869669371483 77.13928436205885\n",
      "Southampton Men's 2 1007.1694693834183 74.38446963079738\n",
      "Southampton Men's 1 2096.717674886989 71.37862349090528\n"
     ]
    }
   ],
   "source": [
    "for team, obj in team_gObj.items():\n",
    "    if \"Women's\" in team:\n",
    "        continue\n",
    "    if \"Southampton\" not in team:\n",
    "        continue\n",
    "    \n",
    "    print(team, obj.rating, obj.RD)"
   ]
  },
  {
   "cell_type": "code",
   "execution_count": 9,
   "id": "177c7d4a",
   "metadata": {},
   "outputs": [
    {
     "data": {
      "text/plain": [
       "nan"
      ]
     },
     "execution_count": 9,
     "metadata": {},
     "output_type": "execute_result"
    }
   ],
   "source": [
    "float('nan') +4"
   ]
  }
 ],
 "metadata": {
  "kernelspec": {
   "display_name": "Python 3 (ipykernel)",
   "language": "python",
   "name": "python3"
  },
  "language_info": {
   "codemirror_mode": {
    "name": "ipython",
    "version": 3
   },
   "file_extension": ".py",
   "mimetype": "text/x-python",
   "name": "python",
   "nbconvert_exporter": "python",
   "pygments_lexer": "ipython3",
   "version": "3.9.7"
  }
 },
 "nbformat": 4,
 "nbformat_minor": 5
}
